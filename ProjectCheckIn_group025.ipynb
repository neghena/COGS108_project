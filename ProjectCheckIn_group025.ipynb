{
 "cells": [
  {
   "cell_type": "markdown",
   "metadata": {},
   "source": [
    "# COGS 108 Final Project Check-In"
   ]
  },
  {
   "cell_type": "markdown",
   "metadata": {},
   "source": [
    "# Names \n",
    " - Neghena Faizyar\n",
    " - Jie Wang\n",
    " - Richard To\n",
    " - Brianna Catalan\n",
    " - Nicholas Weaver"
   ]
  },
  {
   "cell_type": "markdown",
   "metadata": {},
   "source": [
    "# Group Members IDs\n",
    " - A15029829\n",
    " - A14481331\n",
    " - A15555602\n",
    " - A13892424\n",
    " - A15517060"
   ]
  },
  {
   "cell_type": "markdown",
   "metadata": {},
   "source": [
    "# Accomplishment\n",
    " - Upto this point, our group has found the datasets we wish to use to answer our question.\n",
    "     - https://www.sandag.org/index.asp?classid=14&subclassid=21&projectid=446&fuseaction=projects.detail\n",
    "         - crime data for the last 180 days\n",
    "     - https://www.abc.ca.gov/licensing/licensing-reports/\n",
    "         - alcohol licenses\n",
    " - We are in the process of narrowing the types of crimes we wish to focus on, given the types of crimes in our crime dataset (i.e. defining what we consider to be 'petty crime')"
   ]
  },
  {
   "cell_type": "markdown",
   "metadata": {},
   "source": [
    "# Going Well\n",
    "\n",
    " - We work together well as a group & each have different types of ideas which help make our project stronger.  \n",
    " - We've found our databases and know how we want to wrangle them and what types of visualizations we want to have.\n",
    " - Have a good plan for what we want to do in the future and are all on the same page now. "
   ]
  },
  {
   "cell_type": "markdown",
   "metadata": {},
   "source": [
    "# Struggles\n",
    " \n",
    " - Finding time to meet up is difficult as we all have busy schedules.\n",
    " - Deciding the exact scope of what we want to look our and exactly how we want to visualize and make correlations is still in the works. \n",
    " - Struggling to find how to use locations (we have addresses, but how to group them into general locations?)\n",
    "\n"
   ]
  },
  {
   "cell_type": "markdown",
   "metadata": {},
   "source": [
    "# Plan Forward\n",
    "\n",
    "Our plan for successful completion of our COGS 108 project is currently to clean up our databases and do some exploration to see exactly how we want to do our project. After that we want to meet up again once we have our observations and narrow our scope if necessary and then decide what types of visualizations we need. After that we will work on analyzing our data. Our crime dataset has descriptions so we are considering using frequencies/NLP to see what comes up more in these descriptions. \n",
    "\n",
    "In terms of the issues, we have set out times earlier where we will make sure we are free. We will be able to decide our exact scope after exploring our data a bit more. We'll all look into various ways to deal with locations, right now we're considering using zip codes.  "
   ]
  },
  {
   "cell_type": "code",
   "execution_count": null,
   "metadata": {},
   "outputs": [],
   "source": []
  }
 ],
 "metadata": {
  "kernelspec": {
   "display_name": "Python 3",
   "language": "python",
   "name": "python3"
  },
  "language_info": {
   "codemirror_mode": {
    "name": "ipython",
    "version": 3
   },
   "file_extension": ".py",
   "mimetype": "text/x-python",
   "name": "python",
   "nbconvert_exporter": "python",
   "pygments_lexer": "ipython3",
   "version": "3.7.4"
  }
 },
 "nbformat": 4,
 "nbformat_minor": 2
}
